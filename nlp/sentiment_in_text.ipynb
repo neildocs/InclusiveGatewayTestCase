{
  "nbformat": 4,
  "nbformat_minor": 0,
  "metadata": {
    "colab": {
      "name": "sentiment-in-text.ipynb",
      "private_outputs": true,
      "provenance": [],
      "collapsed_sections": [],
      "authorship_tag": "ABX9TyMsRmxjQDuGCT9o/1+3kQF4",
      "include_colab_link": true
    },
    "kernelspec": {
      "name": "python3",
      "display_name": "Python 3"
    },
    "language_info": {
      "name": "python"
    },
    "accelerator": "GPU"
  },
  "cells": [
    {
      "cell_type": "markdown",
      "metadata": {
        "id": "view-in-github",
        "colab_type": "text"
      },
      "source": [
        "<a href=\"https://colab.research.google.com/github/neildocs/InclusiveGatewayTestCase/blob/master/nlp/sentiment_in_text.ipynb\" target=\"_parent\"><img src=\"https://colab.research.google.com/assets/colab-badge.svg\" alt=\"Open In Colab\"/></a>"
      ]
    },
    {
      "cell_type": "markdown",
      "metadata": {
        "id": "3FjSLYDbDpue"
      },
      "source": [
        "# Natural Language Processing"
      ]
    },
    {
      "cell_type": "markdown",
      "metadata": {
        "id": "uehvNfkZDyNQ"
      },
      "source": [
        "## Word based encoding"
      ]
    },
    {
      "cell_type": "markdown",
      "metadata": {
        "id": "HkERo75-EfSt"
      },
      "source": [
        "Use API `tensorflow.keras.preprocessing.text.Tokenizer` to \n",
        "\n",
        "- generate the dictionary of word encodings, and \n",
        "\n",
        "- create vectors out from the sentences.\n",
        "\n"
      ]
    },
    {
      "cell_type": "code",
      "metadata": {
        "id": "Yap8hu3l6Tb0"
      },
      "source": [
        "import tensorflow as tf\n",
        "from tensorflow import keras\n",
        "from tensorflow.keras.preprocessing.text import Tokenizer\n",
        "\n",
        "sentences = [\n",
        "    'I love my dog',\n",
        "    'I, love my cat',\n",
        "    'You love my dog!', \n",
        "    'Do you think my dog is amazing?'\n",
        "]\n",
        "\n",
        "tokenizer = Tokenizer(num_words = 100)  # num of words big enough to hold all potential tokens\n",
        "tokenizer.fit_on_texts(sentences)\n",
        "word_index = tokenizer.word_index\n",
        "print(word_index)"
      ],
      "execution_count": null,
      "outputs": []
    },
    {
      "cell_type": "markdown",
      "metadata": {
        "id": "Bo941ewMFu6c"
      },
      "source": [
        "The `Tokenizer` automatically removes _punctuations_ and _cases_."
      ]
    },
    {
      "cell_type": "markdown",
      "metadata": {
        "id": "dsv6auc2GrYC"
      },
      "source": [
        "## Text to sequence"
      ]
    },
    {
      "cell_type": "markdown",
      "metadata": {
        "id": "ImcJh6CcGyur"
      },
      "source": [
        "Previous step **tokenize** the words and sentences, building up a dictionary of all the words.\n",
        "\n",
        "\n",
        "Next, turn sentences into lists of values based on the tokens.  Use `Tokenizer.texts_to_sequence()`\n",
        "\n",
        "\n",
        "You need manipulate these lists, and make every sentence the same length.\n",
        "\n"
      ]
    },
    {
      "cell_type": "code",
      "metadata": {
        "id": "m-qKQfhtFdKh"
      },
      "source": [
        "# ---------------------------------\n",
        "# On top of previous tokenize step\n",
        "# ---------------------------------\n",
        "\n",
        "sequences = tokenizer.texts_to_sequences(sentences)\n",
        "\n",
        "print(word_index)\n",
        "print(sequences)"
      ],
      "execution_count": null,
      "outputs": []
    },
    {
      "cell_type": "markdown",
      "metadata": {
        "id": "gTQoPzrNIjoZ"
      },
      "source": [
        "The sequences contains **only tokens existing in dictionary**.\n",
        "\n",
        "In below example, words like _really_, or _manatee_ are **not** in dictionary.  So the sequence does not show these unknown words."
      ]
    },
    {
      "cell_type": "code",
      "metadata": {
        "id": "GsuT1jJvHw_c"
      },
      "source": [
        "test_data = [\n",
        "    'I really love my dog',\n",
        "    'My dog loves my manatee'\n",
        "]\n",
        "\n",
        "test_seq = tokenizer.texts_to_sequences(test_data)\n",
        "print(test_seq)"
      ],
      "execution_count": null,
      "outputs": []
    },
    {
      "cell_type": "markdown",
      "metadata": {
        "id": "k88L0B5FN5Ak"
      },
      "source": [
        "Summary\n",
        "\n",
        "- Need a lot of training data to get a **broad** dictionary.\n",
        "\n",
        "- Instead of ignoring unseen words, put a special value use property `oov_token` (out-of-vacabulary) of `Tokenizer`"
      ]
    },
    {
      "cell_type": "code",
      "metadata": {
        "id": "y8-S_Wr6JBUZ"
      },
      "source": [
        "# ----------------------------\n",
        "# This is a revised version 2\n",
        "# ----------------------------\n",
        "\n",
        "import tensorflow as tf\n",
        "from tensorflow import keras\n",
        "from tensorflow.keras.preprocessing.text import Tokenizer\n",
        "\n",
        "sentences = [\n",
        "    'I love my dog',\n",
        "    'I, love my cat',\n",
        "    'You love my dog!', \n",
        "    'Do you think my dog is amazing?'\n",
        "]\n",
        "\n",
        "tokenizer = Tokenizer(num_words = 100, oov_token = \"<oov>\")  # oov_token can be any special value\n",
        "tokenizer.fit_on_texts(sentences)\n",
        "word_index = tokenizer.word_index\n",
        "sequence = tokenizer.texts_to_sequences(sentences)\n",
        "\n",
        "test_data = [\n",
        "    'I really love my dog',\n",
        "    'My dog loves my manatee'\n",
        "]\n",
        "\n",
        "test_seq = tokenizer.texts_to_sequences(test_data)\n",
        "print(test_seq)\n",
        "print(word_index)"
      ],
      "execution_count": null,
      "outputs": []
    },
    {
      "cell_type": "markdown",
      "metadata": {
        "id": "JUmkFkLIPPIA"
      },
      "source": [
        "## Uniformize with Padding"
      ]
    },
    {
      "cell_type": "markdown",
      "metadata": {
        "id": "CTw8OjXOPnHt"
      },
      "source": [
        "To ensure all sequences are in same size, use `pad_sequences`.\n",
        "\n",
        "\n",
        "By default, `pad_sequences` adds extra `0` before values to make the size the same as longest sequence.\n",
        "\n",
        "\n",
        "By specifying `padding='post'`, the `0`s are appended after the values.\n",
        "\n",
        "\n",
        "By `maxlen=x`, it forces all sentences only with `x` words.\n",
        "\n",
        "By default, the truncated words are those at beginning.  Specify `truncating='post'` to truncate words from tail."
      ]
    },
    {
      "cell_type": "code",
      "metadata": {
        "id": "iqTNUowRPYDV"
      },
      "source": [
        "# ----------------------------\n",
        "# This is a revised version 3\n",
        "# ----------------------------\n",
        "\n",
        "import tensorflow as tf\n",
        "from tensorflow import keras\n",
        "from tensorflow.keras.preprocessing.text import Tokenizer\n",
        "from tensorflow.keras.preprocessing.sequence import pad_sequences\n",
        "\n",
        "sentences = [\n",
        "    'I love my dog',\n",
        "    'I, love my cat',\n",
        "    'You love my dog!', \n",
        "    'Do you think my dog is amazing?'\n",
        "]\n",
        "\n",
        "tokenizer = Tokenizer(num_words = 100, oov_token = \"<oov>\")  # oov_token can be any special value\n",
        "tokenizer.fit_on_texts(sentences)\n",
        "word_index = tokenizer.word_index\n",
        "\n",
        "sequences = tokenizer.texts_to_sequences(sentences)\n",
        "\n",
        "# padding\n",
        "# padded = pad_sequences(sequences)\n",
        "padded = pad_sequences(sequences, maxlen=5)\n",
        "\n",
        "print(\"\\nWord index = \", word_index)\n",
        "print(\"\\nSequences = \", sequences)\n",
        "print(\"\\nPadded Sequences: \")\n",
        "print(padded)\n",
        "\n",
        "test_data = [\n",
        "    'I really love my dog',\n",
        "    'My dog loves my manatee'\n",
        "]\n",
        "\n",
        "test_seq = tokenizer.texts_to_sequences(test_data)\n",
        "print(\"\\nTest sequence = \", test_seq)\n",
        "\n",
        "padded = pad_sequences(test_seq, maxlen=10)\n",
        "print(\"\\nPadded test sequence = \")\n",
        "print(padded)"
      ],
      "execution_count": null,
      "outputs": []
    },
    {
      "cell_type": "markdown",
      "metadata": {
        "id": "7e9vhdtHUzsW"
      },
      "source": [
        "## Using Sarcasm\n",
        "\n",
        "\n",
        "> *Sarcasm* is a publically available data set"
      ]
    },
    {
      "cell_type": "markdown",
      "metadata": {
        "id": "9I6Giyo1V5Bm"
      },
      "source": [
        "### Prepare the dataset"
      ]
    },
    {
      "cell_type": "code",
      "metadata": {
        "id": "DXeV3EWMXFcg"
      },
      "source": [
        "!wget --no-check-certificate \\\n",
        "    https://storage.googleapis.com/laurencemoroney-blog.appspot.com/sarcasm.json \\\n",
        "    -O /tmp/sarcasm.json"
      ],
      "execution_count": null,
      "outputs": []
    },
    {
      "cell_type": "code",
      "metadata": {
        "id": "m4aWen7oQVtP"
      },
      "source": [
        "import json\n",
        "\n",
        "with open('/tmp/sarcasm.json', 'r') as f:\n",
        "    data_store = json.load(f)\n",
        "\n",
        "sentences = []\n",
        "labels = []\n",
        "urls = []\n",
        "\n",
        "for item in data_store:\n",
        "    sentences.append(item['headline'])\n",
        "    labels.append(item['is_sarcastic'])\n",
        "    urls.append(item['article_link'])"
      ],
      "execution_count": null,
      "outputs": []
    },
    {
      "cell_type": "markdown",
      "metadata": {
        "id": "wmMGBB_0V-ZQ"
      },
      "source": [
        "### Tokenizer"
      ]
    },
    {
      "cell_type": "code",
      "metadata": {
        "id": "AWbvSXEGWAL5"
      },
      "source": [
        "from tensorflow.keras.preprocessing.text import Tokenizer\n",
        "from tensorflow.keras.preprocessing.sequence import pad_sequences\n",
        "\n",
        "tokenizer = Tokenizer(oov_token=\"<OOV>\")\n",
        "tokenizer.fit_on_texts(sentences)\n",
        "word_index = tokenizer.word_index\n",
        "\n",
        "sequences = tokenizer.texts_to_sequences(sentences)\n",
        "padded = pad_sequences(sequences, padding=\"post\")\n",
        "\n",
        "print(padded[0])\n",
        "print(padded.shape)"
      ],
      "execution_count": null,
      "outputs": []
    },
    {
      "cell_type": "markdown",
      "metadata": {
        "id": "Ih04Jt1BFHsY"
      },
      "source": [
        "## Play with Sarcasm"
      ]
    },
    {
      "cell_type": "code",
      "metadata": {
        "id": "0hscQtlqXRVN"
      },
      "source": [
        "!wget --no-check-certificate \\\n",
        "    https://storage.googleapis.com/laurencemoroney-blog.appspot.com/sarcasm.json \\\n",
        "    -O /tmp/sarcasm.json"
      ],
      "execution_count": null,
      "outputs": []
    },
    {
      "cell_type": "code",
      "metadata": {
        "id": "ECPlXhG5FWnG"
      },
      "source": [
        "# ----------\n",
        "# Load data\n",
        "# ----------\n",
        "\n",
        "import json\n",
        "\n",
        "with open(\"/tmp/sarcasm.json\", \"r\") as f:\n",
        "    datastore = json.load(f)\n",
        "\n",
        "sentences = []\n",
        "labels = []\n",
        "\n",
        "for item in datastore:\n",
        "    sentences.append(item[\"headline\"])\n",
        "    labels.append(item[\"is_sarcastic\"])"
      ],
      "execution_count": null,
      "outputs": []
    },
    {
      "cell_type": "code",
      "metadata": {
        "id": "AVTDBMhEGP77"
      },
      "source": [
        "# --------------------\n",
        "# setup configurations\n",
        "# --------------------\n",
        "\n",
        "vocab_size = 10000\n",
        "embedding_dim = 16\n",
        "max_length = 32\n",
        "trunc_type = \"post\"\n",
        "padding_type = \"post\"\n",
        "oov_tok = \"<OOV>\"\n",
        "training_size = 20000\n"
      ],
      "execution_count": null,
      "outputs": []
    },
    {
      "cell_type": "code",
      "metadata": {
        "id": "ZgIOHny9F6Is"
      },
      "source": [
        "# ---------------------\n",
        "# Building a classifier\n",
        "# ---------------------\n",
        "training_sentences = sentences[:training_size]\n",
        "testing_sentences = sentences[training_size:]\n",
        "training_labels = labels[:training_size]\n",
        "testing_labels = labels[training_size:]\n"
      ],
      "execution_count": null,
      "outputs": []
    },
    {
      "cell_type": "code",
      "metadata": {
        "id": "O7revGgYGrck"
      },
      "source": [
        "from tensorflow.keras.preprocessing.text import Tokenizer\n",
        "from tensorflow.keras.preprocessing.sequence import pad_sequences\n",
        "\n",
        "tokenizer = Tokenizer(num_words=vocab_size, oov_token=oov_tok)\n",
        "tokenizer.fit_on_texts(training_sentences)\n",
        "word_index = tokenizer.word_index\n",
        "\n",
        "training_seq = tokenizer.texts_to_sequences(training_sentences)\n",
        "training_padded = pad_sequences(training_seq, \n",
        "                                maxlen = max_length, \n",
        "                                padding = padding_type, \n",
        "                                truncating = trunc_type)\n",
        "\n",
        "testing_seq = tokenizer.texts_to_sequences(testing_sentences)\n",
        "testing_padded = pad_sequences(testing_seq, \n",
        "                               maxlen = max_length, \n",
        "                               padding = padding_type, \n",
        "                               truncating = trunc_type)"
      ],
      "execution_count": null,
      "outputs": []
    },
    {
      "cell_type": "code",
      "metadata": {
        "id": "w_h4SjJ-Hvz3"
      },
      "source": [
        "# ---------------------\n",
        "# Build neural network\n",
        "# ---------------------\n",
        "from tensorflow import keras\n",
        "\n",
        "model = keras.Sequential([\n",
        "    keras.layers.Embedding(vocab_size, embedding_dim, input_length=max_length), \n",
        "    keras.layers.GlobalAveragePooling1D(),   # flatten\n",
        "    keras.layers.Dense(24, activation = \"relu\"),\n",
        "    keras.layers.Dense(1, activation = \"sigmoid\")\n",
        "])\n",
        "model.compile(loss = \"binary_crossentropy\",\n",
        "              optimizer = \"adam\",\n",
        "              metrics = [\"accuracy\"])\n",
        "\n",
        "model.summary()"
      ],
      "execution_count": null,
      "outputs": []
    },
    {
      "cell_type": "code",
      "metadata": {
        "id": "FNbYveLVIwTn"
      },
      "source": [
        "# --------\n",
        "# Training\n",
        "# --------\n",
        "\n",
        "# This is required for TensorFlow 2.x\n",
        "import numpy as np\n",
        "\n",
        "training_padded = np.array(training_padded)\n",
        "training_labels = np.array(training_labels)\n",
        "testing_padded = np.array(testing_padded)\n",
        "testing_labels = np.array(testing_labels)\n",
        "\n",
        "num_epochs = 30\n",
        "history = model.fit(training_padded, \n",
        "                    training_labels, \n",
        "                    epochs = num_epochs, \n",
        "                    validation_data = (testing_padded, \n",
        "                                       testing_labels), \n",
        "                    verbose = 2)"
      ],
      "execution_count": null,
      "outputs": []
    },
    {
      "cell_type": "code",
      "metadata": {
        "id": "VCr2ThIdJkJa"
      },
      "source": [
        "# ----------------\n",
        "# Plot the results\n",
        "# ----------------\n",
        "import matplotlib.pyplot as plt\n",
        "\n",
        "def plot_graphs(history, string):\n",
        "    plt.plot(history.history[string])\n",
        "    plt.plot(history.history['val_' + string])\n",
        "    plt.xlabel(\"Epochs\")\n",
        "    plt.ylabel(string)\n",
        "    plt.legend([string, 'val_' + string])\n",
        "    plt.show()\n",
        "\n",
        "plot_graphs(history, \"accuracy\")\n",
        "plot_graphs(history, \"loss\")"
      ],
      "execution_count": null,
      "outputs": []
    },
    {
      "cell_type": "markdown",
      "metadata": {
        "id": "IeJloirfMQIU"
      },
      "source": [
        "From the graphs, the _training loss_ fall, but the _validation loss_ increased.\n",
        "\n",
        "?? Overfitting ??"
      ]
    },
    {
      "cell_type": "code",
      "metadata": {
        "id": "44Qppp8yMHuN"
      },
      "source": [
        ""
      ],
      "execution_count": null,
      "outputs": []
    }
  ]
}